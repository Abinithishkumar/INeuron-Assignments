{
 "cells": [
  {
   "cell_type": "markdown",
   "metadata": {},
   "source": [
    "####  Write a Python Program(with class concepts) to find the area of the triangle using the below  formula. area = (s*(s-a)*(s-b)*(s-c)) ** 0.5 . Function to take the length of the sides of triangle from user should be defined in the parent  class and function to calculate the area should be defined in subclass. \n"
   ]
  },
  {
   "cell_type": "code",
   "execution_count": 6,
   "metadata": {},
   "outputs": [
    {
     "name": "stdout",
     "output_type": "stream",
     "text": [
      "Enter the value of a:12\n",
      "Enter the value of b:15\n",
      "Enter the value of c:16\n",
      "The required area is 85.45137506207843\n"
     ]
    }
   ],
   "source": [
    "class parameters:\n",
    "    def __init__(self,a,b,c):\n",
    "        self.a=a\n",
    "        self.b=b\n",
    "        self.c=c\n",
    "class tri_calc(parameters):\n",
    "    def __init__(self,a,b,c):\n",
    "        parameters.__init__(self,a,b,c)\n",
    "    def calc(self):\n",
    "        s = (self.a + self.b + self.c) / 2\n",
    "        self.area =  (s*(s-self.a)*(s-self.b)*(s-self.c)) ** 0.5 \n",
    "    def disp(self):\n",
    "        return self.area\n",
    "    \n",
    "a = int(input('Enter the value of a:'))\n",
    "b = int(input('Enter the value of b:'))\n",
    "c = int(input('Enter the value of c:'))\n",
    "\n",
    "x = tri_calc(a,b,c)\n",
    "x.calc()\n",
    "print(\"The required area is {}\" .format(x.disp()))"
   ]
  },
  {
   "cell_type": "markdown",
   "metadata": {},
   "source": [
    "#### Write a function filter_long_words() that takes a list of words and an integer n and returns  the list of words that are longer than n."
   ]
  },
  {
   "cell_type": "code",
   "execution_count": 4,
   "metadata": {},
   "outputs": [
    {
     "name": "stdout",
     "output_type": "stream",
     "text": [
      "Enter the value:3\n",
      "Enter the words:Hi, This is Abi Here\n",
      "['This', 'Here']\n"
     ]
    }
   ],
   "source": [
    "def filter_long_words(n, words):\n",
    "    lst1 = words.split(' ')\n",
    "    lst = [i for i in lst1 if len(i) > n]\n",
    "    print(lst)\n",
    "n = int(input('Enter the value:'))\n",
    "words = input('Enter the words:')\n",
    "filter_long_words(n, words)"
   ]
  },
  {
   "cell_type": "markdown",
   "metadata": {},
   "source": [
    "#### Write a Python program using function concept that maps list of words into a list of integers  representing the lengths of the corresponding words. Hint: If a list [ ab,cde,erty] is passed on to the python function output should come as [2,3,4] Here 2,3 and 4 are the lengths of the words in the list.\n"
   ]
  },
  {
   "cell_type": "code",
   "execution_count": 13,
   "metadata": {},
   "outputs": [
    {
     "name": "stdout",
     "output_type": "stream",
     "text": [
      "Enter the word: Hiii This is AK\n",
      "['Hiii', 'This', 'is', 'AK']\n",
      "[4, 4, 2, 2]\n"
     ]
    }
   ],
   "source": [
    "def word_len(words):\n",
    "    print(list(map(lambda n : len(n), lst)))\n",
    "words = input('Enter the word: ')\n",
    "lst = words.split()\n",
    "print(lst)\n",
    "word_len(words)"
   ]
  },
  {
   "cell_type": "markdown",
   "metadata": {},
   "source": [
    "#### Write a Python function which takes a character (i.e. a string of length 1) and returns True if  it is a vowel, False otherwise. "
   ]
  },
  {
   "cell_type": "code",
   "execution_count": 17,
   "metadata": {},
   "outputs": [
    {
     "name": "stdout",
     "output_type": "stream",
     "text": [
      "enter character: a\n"
     ]
    },
    {
     "data": {
      "text/plain": [
       "True"
      ]
     },
     "execution_count": 17,
     "metadata": {},
     "output_type": "execute_result"
    }
   ],
   "source": [
    "def vowels(char):\n",
    "    for i in char.casefold():\n",
    "        if i in (\"a\", \"e\", \"i\", \"o\", \"u\"):\n",
    "            return True\n",
    "        else:\n",
    "            return False\n",
    "char = input(\"enter character: \")\n",
    "vowels(char)"
   ]
  },
  {
   "cell_type": "code",
   "execution_count": null,
   "metadata": {},
   "outputs": [],
   "source": []
  }
 ],
 "metadata": {
  "kernelspec": {
   "display_name": "Python 3",
   "language": "python",
   "name": "python3"
  },
  "language_info": {
   "codemirror_mode": {
    "name": "ipython",
    "version": 3
   },
   "file_extension": ".py",
   "mimetype": "text/x-python",
   "name": "python",
   "nbconvert_exporter": "python",
   "pygments_lexer": "ipython3",
   "version": "3.8.5"
  }
 },
 "nbformat": 4,
 "nbformat_minor": 4
}
